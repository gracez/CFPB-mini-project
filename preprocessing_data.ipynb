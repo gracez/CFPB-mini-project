{
 "cells": [
  {
   "cell_type": "code",
   "execution_count": 1,
   "metadata": {},
   "outputs": [],
   "source": [
    "#import packages\n",
    "import numpy as np\n",
    "import pandas as pd\n",
    "import sklearn"
   ]
  },
  {
   "cell_type": "code",
   "execution_count": 2,
   "metadata": {},
   "outputs": [
    {
     "name": "stderr",
     "output_type": "stream",
     "text": [
      "/Users/gracezhang/opt/anaconda3/lib/python3.7/site-packages/numpy/lib/arraysetops.py:569: FutureWarning: elementwise comparison failed; returning scalar instead, but in the future will perform elementwise comparison\n",
      "  mask |= (ar1 == a)\n"
     ]
    }
   ],
   "source": [
    "# read in the complaints data from the CFPB website:\n",
    "# https://www.consumerfinance.gov/data-research/consumer-complaints/#download-the-data\n",
    "df = pd.read_csv('./data/complaints.csv', index_col=\"Complaint ID\")"
   ]
  },
  {
   "cell_type": "code",
   "execution_count": 3,
   "metadata": {},
   "outputs": [
    {
     "data": {
      "text/html": [
       "<div>\n",
       "<style scoped>\n",
       "    .dataframe tbody tr th:only-of-type {\n",
       "        vertical-align: middle;\n",
       "    }\n",
       "\n",
       "    .dataframe tbody tr th {\n",
       "        vertical-align: top;\n",
       "    }\n",
       "\n",
       "    .dataframe thead th {\n",
       "        text-align: right;\n",
       "    }\n",
       "</style>\n",
       "<table border=\"1\" class=\"dataframe\">\n",
       "  <thead>\n",
       "    <tr style=\"text-align: right;\">\n",
       "      <th></th>\n",
       "      <th>Date received</th>\n",
       "      <th>Product</th>\n",
       "      <th>Sub-product</th>\n",
       "      <th>Issue</th>\n",
       "      <th>Sub-issue</th>\n",
       "      <th>Consumer complaint narrative</th>\n",
       "      <th>Company public response</th>\n",
       "      <th>Company</th>\n",
       "      <th>State</th>\n",
       "      <th>ZIP code</th>\n",
       "      <th>Tags</th>\n",
       "      <th>Consumer consent provided?</th>\n",
       "      <th>Submitted via</th>\n",
       "      <th>Date sent to company</th>\n",
       "      <th>Company response to consumer</th>\n",
       "      <th>Timely response?</th>\n",
       "      <th>Consumer disputed?</th>\n",
       "    </tr>\n",
       "    <tr>\n",
       "      <th>Complaint ID</th>\n",
       "      <th></th>\n",
       "      <th></th>\n",
       "      <th></th>\n",
       "      <th></th>\n",
       "      <th></th>\n",
       "      <th></th>\n",
       "      <th></th>\n",
       "      <th></th>\n",
       "      <th></th>\n",
       "      <th></th>\n",
       "      <th></th>\n",
       "      <th></th>\n",
       "      <th></th>\n",
       "      <th></th>\n",
       "      <th></th>\n",
       "      <th></th>\n",
       "      <th></th>\n",
       "    </tr>\n",
       "  </thead>\n",
       "  <tbody>\n",
       "    <tr>\n",
       "      <th>3274605</th>\n",
       "      <td>2019-06-13</td>\n",
       "      <td>Credit reporting, credit repair services, or o...</td>\n",
       "      <td>Credit reporting</td>\n",
       "      <td>Incorrect information on your report</td>\n",
       "      <td>Information belongs to someone else</td>\n",
       "      <td>NaN</td>\n",
       "      <td>NaN</td>\n",
       "      <td>CAPITAL ONE FINANCIAL CORPORATION</td>\n",
       "      <td>PA</td>\n",
       "      <td>186XX</td>\n",
       "      <td>NaN</td>\n",
       "      <td>Consent not provided</td>\n",
       "      <td>Web</td>\n",
       "      <td>2019-06-13</td>\n",
       "      <td>Closed with explanation</td>\n",
       "      <td>Yes</td>\n",
       "      <td>NaN</td>\n",
       "    </tr>\n",
       "    <tr>\n",
       "      <th>3198225</th>\n",
       "      <td>2019-04-01</td>\n",
       "      <td>Credit reporting, credit repair services, or o...</td>\n",
       "      <td>Credit reporting</td>\n",
       "      <td>Incorrect information on your report</td>\n",
       "      <td>Account status incorrect</td>\n",
       "      <td>NaN</td>\n",
       "      <td>Company has responded to the consumer and the ...</td>\n",
       "      <td>TRANSUNION INTERMEDIATE HOLDINGS, INC.</td>\n",
       "      <td>PA</td>\n",
       "      <td>19067</td>\n",
       "      <td>NaN</td>\n",
       "      <td>Consent not provided</td>\n",
       "      <td>Web</td>\n",
       "      <td>2019-04-01</td>\n",
       "      <td>Closed with explanation</td>\n",
       "      <td>Yes</td>\n",
       "      <td>NaN</td>\n",
       "    </tr>\n",
       "    <tr>\n",
       "      <th>4497546</th>\n",
       "      <td>2021-06-28</td>\n",
       "      <td>Credit reporting, credit repair services, or o...</td>\n",
       "      <td>Credit reporting</td>\n",
       "      <td>Incorrect information on your report</td>\n",
       "      <td>Information belongs to someone else</td>\n",
       "      <td>NaN</td>\n",
       "      <td>NaN</td>\n",
       "      <td>EQUIFAX, INC.</td>\n",
       "      <td>PA</td>\n",
       "      <td>190XX</td>\n",
       "      <td>NaN</td>\n",
       "      <td>NaN</td>\n",
       "      <td>Web</td>\n",
       "      <td>2021-06-28</td>\n",
       "      <td>In progress</td>\n",
       "      <td>Yes</td>\n",
       "      <td>NaN</td>\n",
       "    </tr>\n",
       "    <tr>\n",
       "      <th>4499424</th>\n",
       "      <td>2021-06-29</td>\n",
       "      <td>Credit reporting, credit repair services, or o...</td>\n",
       "      <td>Credit reporting</td>\n",
       "      <td>Incorrect information on your report</td>\n",
       "      <td>Information belongs to someone else</td>\n",
       "      <td>NaN</td>\n",
       "      <td>NaN</td>\n",
       "      <td>Consumer Adjustment Company Incorporated</td>\n",
       "      <td>TX</td>\n",
       "      <td>76002</td>\n",
       "      <td>NaN</td>\n",
       "      <td>NaN</td>\n",
       "      <td>Web</td>\n",
       "      <td>2021-06-29</td>\n",
       "      <td>Closed with explanation</td>\n",
       "      <td>Yes</td>\n",
       "      <td>NaN</td>\n",
       "    </tr>\n",
       "    <tr>\n",
       "      <th>4279484</th>\n",
       "      <td>2021-04-06</td>\n",
       "      <td>Checking or savings account</td>\n",
       "      <td>Checking account</td>\n",
       "      <td>Managing an account</td>\n",
       "      <td>Problem accessing account</td>\n",
       "      <td>NaN</td>\n",
       "      <td>Company has responded to the consumer and the ...</td>\n",
       "      <td>WELLS FARGO &amp; COMPANY</td>\n",
       "      <td>NY</td>\n",
       "      <td>11207</td>\n",
       "      <td>NaN</td>\n",
       "      <td>NaN</td>\n",
       "      <td>Referral</td>\n",
       "      <td>2021-04-07</td>\n",
       "      <td>Closed with explanation</td>\n",
       "      <td>Yes</td>\n",
       "      <td>NaN</td>\n",
       "    </tr>\n",
       "  </tbody>\n",
       "</table>\n",
       "</div>"
      ],
      "text/plain": [
       "             Date received                                            Product  \\\n",
       "Complaint ID                                                                    \n",
       "3274605         2019-06-13  Credit reporting, credit repair services, or o...   \n",
       "3198225         2019-04-01  Credit reporting, credit repair services, or o...   \n",
       "4497546         2021-06-28  Credit reporting, credit repair services, or o...   \n",
       "4499424         2021-06-29  Credit reporting, credit repair services, or o...   \n",
       "4279484         2021-04-06                        Checking or savings account   \n",
       "\n",
       "                   Sub-product                                 Issue  \\\n",
       "Complaint ID                                                           \n",
       "3274605       Credit reporting  Incorrect information on your report   \n",
       "3198225       Credit reporting  Incorrect information on your report   \n",
       "4497546       Credit reporting  Incorrect information on your report   \n",
       "4499424       Credit reporting  Incorrect information on your report   \n",
       "4279484       Checking account                   Managing an account   \n",
       "\n",
       "                                        Sub-issue  \\\n",
       "Complaint ID                                        \n",
       "3274605       Information belongs to someone else   \n",
       "3198225                  Account status incorrect   \n",
       "4497546       Information belongs to someone else   \n",
       "4499424       Information belongs to someone else   \n",
       "4279484                 Problem accessing account   \n",
       "\n",
       "             Consumer complaint narrative  \\\n",
       "Complaint ID                                \n",
       "3274605                               NaN   \n",
       "3198225                               NaN   \n",
       "4497546                               NaN   \n",
       "4499424                               NaN   \n",
       "4279484                               NaN   \n",
       "\n",
       "                                        Company public response  \\\n",
       "Complaint ID                                                      \n",
       "3274605                                                     NaN   \n",
       "3198225       Company has responded to the consumer and the ...   \n",
       "4497546                                                     NaN   \n",
       "4499424                                                     NaN   \n",
       "4279484       Company has responded to the consumer and the ...   \n",
       "\n",
       "                                               Company State ZIP code Tags  \\\n",
       "Complaint ID                                                                 \n",
       "3274605              CAPITAL ONE FINANCIAL CORPORATION    PA    186XX  NaN   \n",
       "3198225         TRANSUNION INTERMEDIATE HOLDINGS, INC.    PA    19067  NaN   \n",
       "4497546                                  EQUIFAX, INC.    PA    190XX  NaN   \n",
       "4499424       Consumer Adjustment Company Incorporated    TX    76002  NaN   \n",
       "4279484                          WELLS FARGO & COMPANY    NY    11207  NaN   \n",
       "\n",
       "             Consumer consent provided? Submitted via Date sent to company  \\\n",
       "Complaint ID                                                                 \n",
       "3274605            Consent not provided           Web           2019-06-13   \n",
       "3198225            Consent not provided           Web           2019-04-01   \n",
       "4497546                             NaN           Web           2021-06-28   \n",
       "4499424                             NaN           Web           2021-06-29   \n",
       "4279484                             NaN      Referral           2021-04-07   \n",
       "\n",
       "             Company response to consumer Timely response? Consumer disputed?  \n",
       "Complaint ID                                                                   \n",
       "3274605           Closed with explanation              Yes                NaN  \n",
       "3198225           Closed with explanation              Yes                NaN  \n",
       "4497546                       In progress              Yes                NaN  \n",
       "4499424           Closed with explanation              Yes                NaN  \n",
       "4279484           Closed with explanation              Yes                NaN  "
      ]
     },
     "execution_count": 3,
     "metadata": {},
     "output_type": "execute_result"
    }
   ],
   "source": [
    "df.head()"
   ]
  },
  {
   "cell_type": "code",
   "execution_count": 4,
   "metadata": {
    "scrolled": true
   },
   "outputs": [
    {
     "data": {
      "text/plain": [
       "(2152424, 17)"
      ]
     },
     "execution_count": 4,
     "metadata": {},
     "output_type": "execute_result"
    }
   ],
   "source": [
    "df.shape"
   ]
  },
  {
   "cell_type": "markdown",
   "metadata": {},
   "source": [
    "The original data frame is very large, so we will randomly sample half of the data and discard the rest. "
   ]
  },
  {
   "cell_type": "code",
   "execution_count": 5,
   "metadata": {},
   "outputs": [],
   "source": [
    "from sklearn.model_selection import train_test_split"
   ]
  },
  {
   "cell_type": "code",
   "execution_count": 6,
   "metadata": {},
   "outputs": [],
   "source": [
    "#we randomly sampled our data by pretending to split it into a training and testing set.\n",
    "X_train, X_test, y_train, y_test = train_test_split(df,\n",
    "                                                    df['State'], \n",
    "                                                    train_size=0.5, random_state=42)"
   ]
  },
  {
   "cell_type": "code",
   "execution_count": 7,
   "metadata": {},
   "outputs": [
    {
     "data": {
      "text/plain": [
       "pandas.core.frame.DataFrame"
      ]
     },
     "execution_count": 7,
     "metadata": {},
     "output_type": "execute_result"
    }
   ],
   "source": [
    "#X_train is the sample that we will keep. Check that it is the correct data type.\n",
    "type(X_train)"
   ]
  },
  {
   "cell_type": "code",
   "execution_count": 8,
   "metadata": {},
   "outputs": [
    {
     "data": {
      "text/plain": [
       "(1076212, 17)"
      ]
     },
     "execution_count": 8,
     "metadata": {},
     "output_type": "execute_result"
    }
   ],
   "source": [
    "#check that it is the correct shape\n",
    "X_train.shape"
   ]
  },
  {
   "cell_type": "code",
   "execution_count": 9,
   "metadata": {},
   "outputs": [],
   "source": [
    "#write this to a csv\n",
    "X_train.to_csv('./data/complaints_random_half_with_narratives.csv')"
   ]
  },
  {
   "cell_type": "code",
   "execution_count": null,
   "metadata": {},
   "outputs": [],
   "source": []
  }
 ],
 "metadata": {
  "kernelspec": {
   "display_name": "Python 3 (ipykernel)",
   "language": "python",
   "name": "python3"
  },
  "language_info": {
   "codemirror_mode": {
    "name": "ipython",
    "version": 3
   },
   "file_extension": ".py",
   "mimetype": "text/x-python",
   "name": "python",
   "nbconvert_exporter": "python",
   "pygments_lexer": "ipython3",
   "version": "3.10.9"
  }
 },
 "nbformat": 4,
 "nbformat_minor": 4
}
